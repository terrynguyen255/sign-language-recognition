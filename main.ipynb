{
 "cells": [
  {
   "cell_type": "markdown",
   "id": "a52f1a09",
   "metadata": {},
   "source": [
    "Install dependencies"
   ]
  },
  {
   "cell_type": "code",
   "execution_count": 82,
   "id": "30e53af1",
   "metadata": {},
   "outputs": [
    {
     "name": "stdout",
     "output_type": "stream",
     "text": [
      "Requirement already satisfied: absl-py==2.1.0 in ./.venv/lib/python3.10/site-packages (from -r requirements.txt (line 1)) (2.1.0)\n",
      "Requirement already satisfied: appnope==0.1.4 in ./.venv/lib/python3.10/site-packages (from -r requirements.txt (line 2)) (0.1.4)\n",
      "Requirement already satisfied: asttokens==2.4.1 in ./.venv/lib/python3.10/site-packages (from -r requirements.txt (line 3)) (2.4.1)\n",
      "Requirement already satisfied: bleach==6.1.0 in ./.venv/lib/python3.10/site-packages (from -r requirements.txt (line 4)) (6.1.0)\n",
      "Requirement already satisfied: certifi==2024.8.30 in ./.venv/lib/python3.10/site-packages (from -r requirements.txt (line 5)) (2024.8.30)\n",
      "Requirement already satisfied: charset-normalizer==3.4.0 in ./.venv/lib/python3.10/site-packages (from -r requirements.txt (line 6)) (3.4.0)\n",
      "Requirement already satisfied: contourpy==1.3.0 in ./.venv/lib/python3.10/site-packages (from -r requirements.txt (line 7)) (1.3.0)\n",
      "Requirement already satisfied: cycler==0.12.1 in ./.venv/lib/python3.10/site-packages (from -r requirements.txt (line 8)) (0.12.1)\n",
      "Requirement already satisfied: decorator==5.1.1 in ./.venv/lib/python3.10/site-packages (from -r requirements.txt (line 9)) (5.1.1)\n",
      "Requirement already satisfied: exceptiongroup==1.2.2 in ./.venv/lib/python3.10/site-packages (from -r requirements.txt (line 10)) (1.2.2)\n",
      "Requirement already satisfied: executing==2.1.0 in ./.venv/lib/python3.10/site-packages (from -r requirements.txt (line 11)) (2.1.0)\n",
      "Requirement already satisfied: filelock==3.16.1 in ./.venv/lib/python3.10/site-packages (from -r requirements.txt (line 12)) (3.16.1)\n",
      "Requirement already satisfied: fonttools==4.54.1 in ./.venv/lib/python3.10/site-packages (from -r requirements.txt (line 13)) (4.54.1)\n",
      "Requirement already satisfied: fsspec==2024.10.0 in ./.venv/lib/python3.10/site-packages (from -r requirements.txt (line 14)) (2024.10.0)\n",
      "Requirement already satisfied: h5py==3.12.1 in ./.venv/lib/python3.10/site-packages (from -r requirements.txt (line 15)) (3.12.1)\n",
      "Requirement already satisfied: idna==3.10 in ./.venv/lib/python3.10/site-packages (from -r requirements.txt (line 16)) (3.10)\n",
      "Requirement already satisfied: ipykernel==5.5.6 in ./.venv/lib/python3.10/site-packages (from -r requirements.txt (line 17)) (5.5.6)\n",
      "Requirement already satisfied: ipython==8.28.0 in ./.venv/lib/python3.10/site-packages (from -r requirements.txt (line 18)) (8.28.0)\n",
      "Requirement already satisfied: ipython-genutils==0.2.0 in ./.venv/lib/python3.10/site-packages (from -r requirements.txt (line 19)) (0.2.0)\n",
      "Requirement already satisfied: jedi==0.19.1 in ./.venv/lib/python3.10/site-packages (from -r requirements.txt (line 20)) (0.19.1)\n",
      "Requirement already satisfied: Jinja2==3.1.4 in ./.venv/lib/python3.10/site-packages (from -r requirements.txt (line 21)) (3.1.4)\n",
      "Requirement already satisfied: jupyter_client==8.6.3 in ./.venv/lib/python3.10/site-packages (from -r requirements.txt (line 22)) (8.6.3)\n",
      "Requirement already satisfied: jupyter_core==5.7.2 in ./.venv/lib/python3.10/site-packages (from -r requirements.txt (line 23)) (5.7.2)\n",
      "Requirement already satisfied: kaggle==1.6.17 in ./.venv/lib/python3.10/site-packages (from -r requirements.txt (line 24)) (1.6.17)\n",
      "Requirement already satisfied: keras==3.4.1 in ./.venv/lib/python3.10/site-packages (from -r requirements.txt (line 25)) (3.4.1)\n",
      "Requirement already satisfied: keras-utils==1.0.13 in ./.venv/lib/python3.10/site-packages (from -r requirements.txt (line 26)) (1.0.13)\n",
      "Requirement already satisfied: kiwisolver==1.4.7 in ./.venv/lib/python3.10/site-packages (from -r requirements.txt (line 27)) (1.4.7)\n",
      "Requirement already satisfied: markdown-it-py==3.0.0 in ./.venv/lib/python3.10/site-packages (from -r requirements.txt (line 28)) (3.0.0)\n",
      "Requirement already satisfied: MarkupSafe==3.0.2 in ./.venv/lib/python3.10/site-packages (from -r requirements.txt (line 29)) (3.0.2)\n",
      "Requirement already satisfied: matplotlib==3.7.1 in ./.venv/lib/python3.10/site-packages (from -r requirements.txt (line 30)) (3.7.1)\n",
      "Requirement already satisfied: matplotlib-inline==0.1.7 in ./.venv/lib/python3.10/site-packages (from -r requirements.txt (line 31)) (0.1.7)\n",
      "Requirement already satisfied: mdurl==0.1.2 in ./.venv/lib/python3.10/site-packages (from -r requirements.txt (line 32)) (0.1.2)\n",
      "Requirement already satisfied: ml_dtypes==0.5.0 in ./.venv/lib/python3.10/site-packages (from -r requirements.txt (line 33)) (0.5.0)\n",
      "Requirement already satisfied: mpmath==1.3.0 in ./.venv/lib/python3.10/site-packages (from -r requirements.txt (line 34)) (1.3.0)\n",
      "Requirement already satisfied: namex==0.0.8 in ./.venv/lib/python3.10/site-packages (from -r requirements.txt (line 35)) (0.0.8)\n",
      "Requirement already satisfied: networkx==3.4.2 in ./.venv/lib/python3.10/site-packages (from -r requirements.txt (line 36)) (3.4.2)\n",
      "Requirement already satisfied: numpy==1.26.4 in ./.venv/lib/python3.10/site-packages (from -r requirements.txt (line 37)) (1.26.4)\n",
      "Requirement already satisfied: optree==0.13.0 in ./.venv/lib/python3.10/site-packages (from -r requirements.txt (line 38)) (0.13.0)\n",
      "Requirement already satisfied: packaging==24.1 in ./.venv/lib/python3.10/site-packages (from -r requirements.txt (line 39)) (24.1)\n",
      "Requirement already satisfied: pandas==2.2.2 in ./.venv/lib/python3.10/site-packages (from -r requirements.txt (line 40)) (2.2.2)\n",
      "Requirement already satisfied: parso==0.8.4 in ./.venv/lib/python3.10/site-packages (from -r requirements.txt (line 41)) (0.8.4)\n",
      "Requirement already satisfied: pexpect==4.9.0 in ./.venv/lib/python3.10/site-packages (from -r requirements.txt (line 42)) (4.9.0)\n",
      "Requirement already satisfied: pillow==11.0.0 in ./.venv/lib/python3.10/site-packages (from -r requirements.txt (line 43)) (11.0.0)\n",
      "Requirement already satisfied: platformdirs==4.3.6 in ./.venv/lib/python3.10/site-packages (from -r requirements.txt (line 44)) (4.3.6)\n",
      "Requirement already satisfied: prompt_toolkit==3.0.48 in ./.venv/lib/python3.10/site-packages (from -r requirements.txt (line 45)) (3.0.48)\n",
      "Requirement already satisfied: ptyprocess==0.7.0 in ./.venv/lib/python3.10/site-packages (from -r requirements.txt (line 46)) (0.7.0)\n",
      "Requirement already satisfied: pure_eval==0.2.3 in ./.venv/lib/python3.10/site-packages (from -r requirements.txt (line 47)) (0.2.3)\n",
      "Requirement already satisfied: Pygments==2.18.0 in ./.venv/lib/python3.10/site-packages (from -r requirements.txt (line 48)) (2.18.0)\n",
      "Requirement already satisfied: pyparsing==3.2.0 in ./.venv/lib/python3.10/site-packages (from -r requirements.txt (line 49)) (3.2.0)\n",
      "Requirement already satisfied: python-dateutil==2.9.0.post0 in ./.venv/lib/python3.10/site-packages (from -r requirements.txt (line 50)) (2.9.0.post0)\n",
      "Requirement already satisfied: python-slugify==8.0.4 in ./.venv/lib/python3.10/site-packages (from -r requirements.txt (line 51)) (8.0.4)\n",
      "Requirement already satisfied: pytz==2024.2 in ./.venv/lib/python3.10/site-packages (from -r requirements.txt (line 52)) (2024.2)\n",
      "Requirement already satisfied: pyzmq==26.2.0 in ./.venv/lib/python3.10/site-packages (from -r requirements.txt (line 53)) (26.2.0)\n",
      "Requirement already satisfied: requests==2.32.3 in ./.venv/lib/python3.10/site-packages (from -r requirements.txt (line 54)) (2.32.3)\n",
      "Requirement already satisfied: rich==13.9.2 in ./.venv/lib/python3.10/site-packages (from -r requirements.txt (line 55)) (13.9.2)\n",
      "Requirement already satisfied: six==1.16.0 in ./.venv/lib/python3.10/site-packages (from -r requirements.txt (line 56)) (1.16.0)\n",
      "Requirement already satisfied: stack-data==0.6.3 in ./.venv/lib/python3.10/site-packages (from -r requirements.txt (line 57)) (0.6.3)\n",
      "Requirement already satisfied: sympy==1.13.1 in ./.venv/lib/python3.10/site-packages (from -r requirements.txt (line 58)) (1.13.1)\n",
      "Requirement already satisfied: text-unidecode==1.3 in ./.venv/lib/python3.10/site-packages (from -r requirements.txt (line 59)) (1.3)\n",
      "Requirement already satisfied: torch==2.5.0 in ./.venv/lib/python3.10/site-packages (from -r requirements.txt (line 60)) (2.5.0)\n",
      "Requirement already satisfied: torchvision==0.20.0 in ./.venv/lib/python3.10/site-packages (from -r requirements.txt (line 61)) (0.20.0)\n",
      "Requirement already satisfied: tornado==6.4.1 in ./.venv/lib/python3.10/site-packages (from -r requirements.txt (line 62)) (6.4.1)\n",
      "Requirement already satisfied: tqdm==4.66.5 in ./.venv/lib/python3.10/site-packages (from -r requirements.txt (line 63)) (4.66.5)\n",
      "Requirement already satisfied: traitlets==5.14.3 in ./.venv/lib/python3.10/site-packages (from -r requirements.txt (line 64)) (5.14.3)\n",
      "Requirement already satisfied: typing_extensions==4.12.2 in ./.venv/lib/python3.10/site-packages (from -r requirements.txt (line 65)) (4.12.2)\n",
      "Requirement already satisfied: tzdata==2024.2 in ./.venv/lib/python3.10/site-packages (from -r requirements.txt (line 66)) (2024.2)\n",
      "Requirement already satisfied: urllib3==2.2.3 in ./.venv/lib/python3.10/site-packages (from -r requirements.txt (line 67)) (2.2.3)\n",
      "Requirement already satisfied: wcwidth==0.2.13 in ./.venv/lib/python3.10/site-packages (from -r requirements.txt (line 68)) (0.2.13)\n",
      "Requirement already satisfied: webencodings==0.5.1 in ./.venv/lib/python3.10/site-packages (from -r requirements.txt (line 69)) (0.5.1)\n",
      "\n",
      "\u001b[1m[\u001b[0m\u001b[34;49mnotice\u001b[0m\u001b[1;39;49m]\u001b[0m\u001b[39;49m A new release of pip is available: \u001b[0m\u001b[31;49m24.2\u001b[0m\u001b[39;49m -> \u001b[0m\u001b[32;49m24.3\u001b[0m\n",
      "\u001b[1m[\u001b[0m\u001b[34;49mnotice\u001b[0m\u001b[1;39;49m]\u001b[0m\u001b[39;49m To update, run: \u001b[0m\u001b[32;49mpip install --upgrade pip\u001b[0m\n"
     ]
    }
   ],
   "source": [
    "!source .venv/bin/activate\n",
    "!pip install -r requirements.txt"
   ]
  },
  {
   "cell_type": "code",
   "execution_count": 83,
   "id": "221cabaa",
   "metadata": {},
   "outputs": [
    {
     "name": "stdout",
     "output_type": "stream",
     "text": [
      "Dataset is already downloaded into  datasets/datamunge/sign-language-mnist\n"
     ]
    }
   ],
   "source": [
    "# Download the dataset\n",
    "import os\n",
    "from kaggle.api.kaggle_api_extended import KaggleApi\n",
    "api = KaggleApi()\n",
    "\n",
    "dataset_path = 'datasets/datamunge/sign-language-mnist'\n",
    "dataset_files = [x for x in os.listdir(dataset_path) if x != '.DS_Store']\n",
    "if not dataset_files:\n",
    "    api.dataset_download_files(\"datamunge/sign-language-mnist\", path=dataset_path, unzip=True)\n",
    "    print(\"Dataset has been downloaded into \", dataset_path)\n",
    "else:\n",
    "    print(\"Dataset is already downloaded into \", dataset_path)"
   ]
  },
  {
   "cell_type": "code",
   "execution_count": 84,
   "id": "3e4238da",
   "metadata": {},
   "outputs": [
    {
     "name": "stdout",
     "output_type": "stream",
     "text": [
      "train shape: (27455, 785)\n",
      "test shape: (7172, 785)\n"
     ]
    }
   ],
   "source": [
    "# Visualize the dataset\n",
    "import pandas as pd\n",
    "import numpy as np\n",
    "\n",
    "trainset_csv_path = f'{dataset_path}/sign_mnist_train.csv'\n",
    "testset_csv_path = f'{dataset_path}/sign_mnist_test.csv'\n",
    "\n",
    "train_csv = pd.read_csv(trainset_csv_path)\n",
    "test_csv = pd.read_csv(testset_csv_path)\n",
    "\n",
    "train_data = np.array(train_csv)\n",
    "test_data = np.array(test_csv)\n",
    "\n",
    "numeric_labels = list(range(26))\n",
    "numeric_to_alpha_label_map = {numeric_label: chr(65 + numeric_label) for numeric_label in numeric_labels}\n",
    "\n",
    "ab_classes = ['A', 'B', 'C', 'D', 'E', 'F', 'G', 'H', 'I', 'K', 'L', 'M', 'N', 'O', 'P', 'Q', 'R', 'S', 'T', 'U', 'V', 'W', 'X', 'Y' ]\n",
    "num_classes = [ord(c) - 65 for c in ab_classes]\n",
    "\n",
    "print(f\"train shape: {train_csv.shape}\")\n",
    "print(f\"test shape: {test_csv.shape}\")"
   ]
  },
  {
   "cell_type": "code",
   "execution_count": 85,
   "id": "c184f650",
   "metadata": {},
   "outputs": [
    {
     "data": {
      "image/png": "[encoded data removed]",
      "text/plain": [
       "<Figure size 720x720 with 10 Axes>"
      ]
     },
     "metadata": {
      "needs_background": "light"
     },
     "output_type": "display_data"
    }
   ],
   "source": [
    "import math\n",
    "import matplotlib.pyplot as plot\n",
    "\n",
    "\n",
    "img_size = None\n",
    "\n",
    "# plot the first 10 images\n",
    "number_imags_to_plot = 10\n",
    "img_fig_size = 10\n",
    "fig, axes = plot.subplots(1, number_imags_to_plot, figsize=(img_fig_size, img_fig_size))\n",
    "for i, ax in enumerate(axes):\n",
    "    numeric_label, *img_1d = train_data[i]\n",
    "    img_1d = np.array(img_1d)\n",
    "    img_pixel_count = img_1d.shape[0]\n",
    "    img_size = int(math.sqrt(img_pixel_count))\n",
    "    ax.imshow(img_1d.reshape((img_size, img_size)), cmap='gray')\n",
    "    alpha_label = numeric_to_alpha_label_map[numeric_label]\n",
    "    ax.set_title(alpha_label)\n",
    "    ax.axis('off')\n"
   ]
  },
  {
   "cell_type": "code",
   "execution_count": 86,
   "id": "49227e54",
   "metadata": {},
   "outputs": [
    {
     "data": {
      "text/plain": [
       "Text(0.5, 1.0, 'Label')"
      ]
     },
     "execution_count": 86,
     "metadata": {},
     "output_type": "execute_result"
    },
    {
     "data": {
      "image/png": "[encoded data removed]",
      "text/plain": [
       "<Figure size 1296x1296 with 1 Axes>"
      ]
     },
     "metadata": {
      "needs_background": "light"
     },
     "output_type": "display_data"
    }
   ],
   "source": [
    "# Show distribution of train data\n",
    "distribution = train_csv['label'].value_counts(sort=True)\n",
    "distribution.index = [ numeric_to_alpha_label_map[x] for x in distribution.index]\n",
    "fig = plot.figure(figsize=(18,18))\n",
    "ax1 = fig.add_subplot(221)\n",
    "distribution.plot(kind='bar', ax=ax1)\n",
    "ax1.set_ylabel('Numer of datapoints')\n",
    "ax1.set_title('Label')"
   ]
  },
  {
   "cell_type": "code",
   "execution_count": 87,
   "id": "b6fc8e5b",
   "metadata": {},
   "outputs": [],
   "source": [
    "# Model implementation\n",
    "import torch.nn as nn\n",
    "import torch.nn.functional as F\n",
    "\n",
    "class SlrModel(nn.Module):\n",
    "    def __init__(self):\n",
    "        super(SlrModel, self).__init__()\n",
    "        self.conv1 = nn.Conv2d(in_channels=1, out_channels=6, kernel_size=3)\n",
    "        self.conv2 = nn.Conv2d(in_channels=self.conv1.out_channels, out_channels=6, kernel_size=3)\n",
    "        self.conv3 = nn.Conv2d(in_channels=6, out_channels=16, kernel_size=3)\n",
    "        self.pool = nn.MaxPool2d(kernel_size=2, stride=2)\n",
    "        self.fc1 = nn.Linear(in_features=16 * 5 * 5, out_features=120)\n",
    "        self.fc2 = nn.Linear(in_features=self.fc1.out_features, out_features=48)\n",
    "        self.fc3 = nn.Linear(in_features=self.fc2.out_features, out_features=24)\n",
    "\n",
    "    def forward(self, x):\n",
    "        x = F.relu(self.conv1(x))\n",
    "        x = self.pool(F.relu(self.conv2(x)))\n",
    "        x = self.pool(F.relu(self.conv3(x)))\n",
    "        x = x.view(-1, self.fc1.in_features)\n",
    "        x = F.relu(self.fc1(x))\n",
    "        x = F.relu(self.fc2(x))\n",
    "        x = self.fc3(x)\n",
    "        return x"
   ]
  },
  {
   "cell_type": "code",
   "execution_count": 88,
   "id": "0b1fdcfa",
   "metadata": {},
   "outputs": [],
   "source": [
    "# Dataset implementation\n",
    "from torch.utils.data import Dataset\n",
    "import torchvision.transforms as transforms\n",
    "import torch.nn as nn\n",
    "import numpy as np\n",
    "import torch\n",
    "\n",
    "class SlrDataset(Dataset):\n",
    "    def __init__(self, data_csv):\n",
    "        data_row = np.array(data_csv)\n",
    "        labels = []\n",
    "        image_datas = []\n",
    "        for row in data_row:\n",
    "            l, *s = row\n",
    "            labels.append(num_classes.index(l))\n",
    "            image_datas.append(s)\n",
    "        self._image_datas = np.array(image_datas, dtype=np.uint8).reshape((-1, img_size, img_size, 1))\n",
    "        self._labels = np.array(labels, dtype=np.uint8).reshape((-1, 1))\n",
    "    \n",
    "    def __len__(self):\n",
    "        return len(self._labels)\n",
    "\n",
    "    def __getitem__(self, idx):\n",
    "        transform = transforms.Compose([\n",
    "            transforms.ToPILImage(),\n",
    "            transforms.ToTensor(),\n",
    "        ])\n",
    "\n",
    "        return {\n",
    "            'image': transform(self._image_datas[idx]).float(),\n",
    "            'label': torch.from_numpy(self._labels[idx]).float()\n",
    "        }\n"
   ]
  },
  {
   "cell_type": "code",
   "execution_count": 89,
   "id": "02673ab1",
   "metadata": {},
   "outputs": [],
   "source": [
    "# Train the model\n",
    "import torch.optim as optim\n",
    "from torch.autograd import Variable\n",
    "\n",
    "def train(model, optimizer, trainloader, verbose=False):\n",
    "    criterion = nn.CrossEntropyLoss()\n",
    "    sum_loss = 0.0\n",
    "    for i, data in enumerate(trainloader, 0):\n",
    "        inputs = Variable(data['image'].float())\n",
    "        labels = Variable(data['label'].long())\n",
    "\n",
    "        # forward propagation\n",
    "        outputs = model(inputs)\n",
    "\n",
    "        # backward propagation\n",
    "        loss = criterion(outputs, labels[:, 0])\n",
    "        loss.backward()\n",
    "\n",
    "        # optimize\n",
    "        optimizer.zero_grad()\n",
    "        optimizer.step()\n",
    "\n",
    "        sum_loss += loss.item()\n",
    "        \n",
    "        if verbose and i % 100 == 0:\n",
    "            current_avg_loss = sum_loss / (i + 1)\n",
    "            print(f'i={i} avg_loss={current_avg_loss}')\n",
    "   \n",
    "    avg_loss = sum_loss / len(trainloader)\n",
    "    return avg_loss     \n"
   ]
  },
  {
   "cell_type": "code",
   "execution_count": 90,
   "id": "be4b32f2",
   "metadata": {},
   "outputs": [],
   "source": [
    "# Evaluate the model\n",
    "def evaluate(model, testloader):\n",
    "    def cal_score_of_1_prediction(actual_prediction, expected_prediction):\n",
    "        expected = expected_prediction[0][0]\n",
    "        actual = np.argmax(actual_prediction[0].detach().numpy())\n",
    "        return 1 if actual == expected else 0\n",
    "    \n",
    "    score_sum = 0\n",
    "    for batch in testloader:\n",
    "        actual_prediction = model(batch['image'])\n",
    "        score_sum += cal_score_of_1_prediction(actual_prediction, batch['label'] )\n",
    "    avg_score = score_sum / len(testloader)\n",
    "    return avg_score"
   ]
  },
  {
   "cell_type": "code",
   "execution_count": 92,
   "id": "ff1f4bc3",
   "metadata": {},
   "outputs": [
    {
     "name": "stdout",
     "output_type": "stream",
     "text": [
      "i=0 avg_loss=3.1646828651428223\n",
      "i=100 avg_loss=3.1856420960756813\n",
      "i=200 avg_loss=3.1846962971473807\n",
      "i=300 avg_loss=3.1838439287141314\n",
      "i=400 avg_loss=3.1838929415343706\n",
      "i=500 avg_loss=3.1835320990480587\n",
      "i=600 avg_loss=3.1840559357216276\n",
      "i=700 avg_loss=3.1836619819281955\n",
      "i=800 avg_loss=3.1835294109158747\n",
      "loss=3.183453125275654\n",
      "accuracy=0.06666666666666667\n"
     ]
    }
   ],
   "source": [
    "# main\n",
    "batch_size = 32\n",
    "trainset = SlrDataset(train_csv)\n",
    "trainloader = torch.utils.data.DataLoader(trainset, batch_size=batch_size, shuffle=True)\n",
    "testset = SlrDataset(test_csv)\n",
    "testloader = torch.utils.data.DataLoader(testset, batch_size=batch_size, shuffle=False)\n",
    "\n",
    "model = SlrModel().float()\n",
    "optimizer = optim.SGD(model.parameters(), lr=0.01, momentum=0.9)\n",
    "\n",
    "loss = train(model, optimizer, trainloader, verbose=True)\n",
    "print(f'loss={loss}')\n",
    "\n",
    "accuracy = evaluate(model, testloader)\n",
    "print(f'accuracy={accuracy}')"
   ]
  }
 ],
 "metadata": {
  "kernelspec": {
   "display_name": ".venv",
   "language": "python",
   "name": "python3"
  },
  "language_info": {
   "codemirror_mode": {
    "name": "ipython",
    "version": 3
   },
   "file_extension": ".py",
   "mimetype": "text/x-python",
   "name": "python",
   "nbconvert_exporter": "python",
   "pygments_lexer": "ipython3",
   "version": "3.10.15"
  }
 },
 "nbformat": 4,
 "nbformat_minor": 5
}
